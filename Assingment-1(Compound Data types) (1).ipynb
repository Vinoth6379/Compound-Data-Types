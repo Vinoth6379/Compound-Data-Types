{
 "cells": [
  {
   "cell_type": "code",
   "execution_count": 1,
   "id": "251cdf61-4cbc-45d0-98ea-4ee5d35bb8e5",
   "metadata": {},
   "outputs": [
    {
     "name": "stdout",
     "output_type": "stream",
     "text": [
      "5\n"
     ]
    }
   ],
   "source": [
    "#1.Create a variable x and assign it the value 5. Print the value of x.\n",
    "x=5\n",
    "print(x)"
   ]
  },
  {
   "cell_type": "code",
   "execution_count": 2,
   "id": "410f9ba7-c2e2-4d26-abf6-9d0d2bb7002f",
   "metadata": {},
   "outputs": [
    {
     "name": "stdout",
     "output_type": "stream",
     "text": [
      "5\n"
     ]
    }
   ],
   "source": [
    "#2.Create two variables a and b, and assign them values 3 and 2 respectively. Add a and b together and print the result.\n",
    "a=3\n",
    "b=2\n",
    "print(a+b)"
   ]
  },
  {
   "cell_type": "code",
   "execution_count": 3,
   "id": "4a0e1675-89d3-4cfa-94ee-b3533d4ed984",
   "metadata": {},
   "outputs": [
    {
     "name": "stdout",
     "output_type": "stream",
     "text": [
      "3.14159\n"
     ]
    }
   ],
   "source": [
    "#3.Create a variable pi and assign it the value 3.14159. Print the value of pi.\n",
    "pi=3.14159\n",
    "print(pi)"
   ]
  },
  {
   "cell_type": "code",
   "execution_count": 4,
   "id": "daa1d863-6d83-4211-b3ba-d3a430574497",
   "metadata": {},
   "outputs": [
    {
     "name": "stdout",
     "output_type": "stream",
     "text": [
      "The area of the circle with radius 5 is: 78.53975\n"
     ]
    }
   ],
   "source": [
    "#4.Create a variable radius and assign it the value 5. Calculate the area of a circle with radius radius using the formula pi * radius ** 2 and print the result.\n",
    "\n",
    "pi = 3.14159\n",
    "radius = 5\n",
    "area = pi * radius ** 2\n",
    "print(\"The area of the circle with radius\", radius, \"is:\", area)\n"
   ]
  },
  {
   "cell_type": "code",
   "execution_count": 5,
   "id": "261a414c-d33c-4ab4-b4c6-7addc7270bb4",
   "metadata": {},
   "outputs": [
    {
     "name": "stdout",
     "output_type": "stream",
     "text": [
      "Hello,Vinoth!\n"
     ]
    }
   ],
   "source": [
    "#5.Create a variable name and assign it your name as a string. Print a greeting using your name, such as \"Hello, [name]!\"\n",
    "\n",
    "name='Vinoth'\n",
    "print(\"Hello,\"+name+\"!\")"
   ]
  },
  {
   "cell_type": "code",
   "execution_count": 8,
   "id": "fbc193d8-8e40-4f58-81ea-1ffb6415e33a",
   "metadata": {},
   "outputs": [
    {
     "name": "stdout",
     "output_type": "stream",
     "text": [
      "I am 21 years old.\n"
     ]
    }
   ],
   "source": [
    "#6.Create a variable age and assign it your age as an integer. Print a sentence that includes your age, such as \"I am [age] years old.\"\n",
    "\n",
    "age = 21\n",
    "print(\"I am\", age, \"years old.\")"
   ]
  },
  {
   "cell_type": "code",
   "execution_count": 9,
   "id": "cbbd8cf0-b445-4c2d-bac3-daef6886baa8",
   "metadata": {},
   "outputs": [
    {
     "name": "stdout",
     "output_type": "stream",
     "text": [
      "I am 1.81 meters tall.\n"
     ]
    }
   ],
   "source": [
    "#7.Create a variable height and assign it your height in meters as a float. Print a sentence that includes your height, such as \"I am [height] meters tall.\"\n",
    "\n",
    "height = 1.81\n",
    "print(\"I am\", height, \"meters tall.\")"
   ]
  },
  {
   "cell_type": "code",
   "execution_count": 11,
   "id": "dd65e7a3-9dfa-4c9a-af03-d449082e3c36",
   "metadata": {},
   "outputs": [
    {
     "name": "stdout",
     "output_type": "stream",
     "text": [
      "The first letter of the sentence is: V\n"
     ]
    }
   ],
   "source": [
    "#8.Create a variable sentence and assign it a sentence as a string. Print the first letter of the sentence.\n",
    "\n",
    "sentence = \"Vinoth\" \n",
    "first_letter = sentence[0]\n",
    "print(\"The first letter of the sentence is:\", first_letter)"
   ]
  },
  {
   "cell_type": "code",
   "execution_count": 12,
   "id": "38eb6559-b5cb-4f9d-90e6-b7b4f210520b",
   "metadata": {},
   "outputs": [
    {
     "name": "stdout",
     "output_type": "stream",
     "text": [
      "The last letter of the sentence is: h\n"
     ]
    }
   ],
   "source": [
    "#9.Create a variable sentence and assign it a sentence as a string. Print the last letter of the sentence.\n",
    "\n",
    "sentence = \"Vinoth\" \n",
    "last_letter = sentence[5]\n",
    "print(\"The last letter of the sentence is:\", last_letter)"
   ]
  },
  {
   "cell_type": "code",
   "execution_count": 13,
   "id": "e9304d02-2e02-413f-bc34-ff7d64299a8c",
   "metadata": {},
   "outputs": [
    {
     "name": "stdout",
     "output_type": "stream",
     "text": [
      "The length of the sentence is: 6\n"
     ]
    }
   ],
   "source": [
    "#10.Create a variable sentence and assign it a sentence as a string. Print the length of the sentence\n",
    "\n",
    "sentence = \"Vinoth\" \n",
    "sentence_length = len(sentence)\n",
    "print(\"The length of the sentence is:\", sentence_length)"
   ]
  },
  {
   "cell_type": "code",
   "execution_count": null,
   "id": "7ca4c59e-b31f-47c0-b914-02d90ebec10b",
   "metadata": {},
   "outputs": [],
   "source": []
  }
 ],
 "metadata": {
  "kernelspec": {
   "display_name": "Python 3 (ipykernel)",
   "language": "python",
   "name": "python3"
  },
  "language_info": {
   "codemirror_mode": {
    "name": "ipython",
    "version": 3
   },
   "file_extension": ".py",
   "mimetype": "text/x-python",
   "name": "python",
   "nbconvert_exporter": "python",
   "pygments_lexer": "ipython3",
   "version": "3.11.4"
  }
 },
 "nbformat": 4,
 "nbformat_minor": 5
}
